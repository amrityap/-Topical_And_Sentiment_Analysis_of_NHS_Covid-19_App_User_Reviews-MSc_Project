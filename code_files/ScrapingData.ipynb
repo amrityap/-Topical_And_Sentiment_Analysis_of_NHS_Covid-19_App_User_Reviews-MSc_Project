{
 "cells": [
  {
   "cell_type": "markdown",
   "metadata": {},
   "source": [
    "## Scraping User Reviews of NHS COVID-19 App from Google Play Store"
   ]
  },
  {
   "cell_type": "markdown",
   "metadata": {},
   "source": [
    "Here, we will scrape the User Reviews of the NHS COVID-19 App from the Google Playstore using google-play-scraper Library of Python. At the end of this code, we will save the scraped data in a .CSV file."
   ]
  },
  {
   "cell_type": "code",
   "execution_count": 1,
   "metadata": {
    "id": "SRYS2CEk_D4S"
   },
   "outputs": [
    {
     "name": "stdout",
     "output_type": "stream",
     "text": [
      "Requirement already satisfied: google-play-scraper in c:\\users\\amrityap\\anaconda3\\lib\\site-packages (1.2.2)\n"
     ]
    }
   ],
   "source": [
    "!pip install google-play-scraper"
   ]
  },
  {
   "cell_type": "code",
   "execution_count": 2,
   "metadata": {
    "id": "tix0oyxf_ISU"
   },
   "outputs": [],
   "source": [
    "from google_play_scraper import Sort, reviews_all, reviews, app\n",
    "import pandas as pd\n",
    "import numpy as np"
   ]
  },
  {
   "cell_type": "code",
   "execution_count": 3,
   "metadata": {
    "id": "h4OkSANp_OFF"
   },
   "outputs": [],
   "source": [
    "# Reference - https://pypi.org/project/google-play-scraper/\n",
    "# Scraping NHS Covid-19 App Reviews - 4th Aug 2022\n",
    "result = reviews_all(\n",
    "    'uk.nhs.covid19.production',\n",
    "    sleep_milliseconds=0, # defaults to 0\n",
    "    lang = 'en_GB',\n",
    "    country = 'gb',\n",
    "    sort= Sort.NEWEST,     # defaults to Sort.MOST_RELEVANT , you can use Sort.NEWEST to get newst reviews\n",
    ")"
   ]
  },
  {
   "cell_type": "code",
   "execution_count": 4,
   "metadata": {
    "id": "YiOQOBjL_Qw4"
   },
   "outputs": [],
   "source": [
    "scrapeddata = pd.DataFrame(result)\n",
    "#scrapeddata.head(3)"
   ]
  },
  {
   "cell_type": "code",
   "execution_count": 5,
   "metadata": {
    "id": "qhiSI58a_Se6"
   },
   "outputs": [],
   "source": [
    "# number of rows and columnd in the scraped data\n",
    "#scrapeddata.shape"
   ]
  },
  {
   "cell_type": "code",
   "execution_count": 6,
   "metadata": {
    "id": "Iy5xsdV8_U9j"
   },
   "outputs": [],
   "source": [
    "# saving the scraped data to a .csv file\n",
    "scrapeddata.to_csv('Covid19_GooglePlayData.csv')"
   ]
  }
 ],
 "metadata": {
  "colab": {
   "name": "ScrapingData.ipynb",
   "provenance": []
  },
  "kernelspec": {
   "display_name": "Python 3 (ipykernel)",
   "language": "python",
   "name": "python3"
  },
  "language_info": {
   "codemirror_mode": {
    "name": "ipython",
    "version": 3
   },
   "file_extension": ".py",
   "mimetype": "text/x-python",
   "name": "python",
   "nbconvert_exporter": "python",
   "pygments_lexer": "ipython3",
   "version": "3.9.12"
  }
 },
 "nbformat": 4,
 "nbformat_minor": 1
}
